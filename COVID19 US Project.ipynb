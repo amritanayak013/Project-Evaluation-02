{
 "cells": [
  {
   "cell_type": "code",
   "execution_count": 1,
   "id": "impressed-found",
   "metadata": {},
   "outputs": [],
   "source": [
    "#importing the necessary libraries\n",
    "import pandas as pd\n",
    "import numpy as np\n",
    "import seaborn as sns\n",
    "import matplotlib.pyplot as plt\n",
    "\n",
    "#importing the warnings\n",
    "import warnings\n",
    "warnings.simplefilter('ignore')"
   ]
  },
  {
   "cell_type": "code",
   "execution_count": 2,
   "id": "artificial-electric",
   "metadata": {},
   "outputs": [
    {
     "data": {
      "text/html": [
       "<div>\n",
       "<style scoped>\n",
       "    .dataframe tbody tr th:only-of-type {\n",
       "        vertical-align: middle;\n",
       "    }\n",
       "\n",
       "    .dataframe tbody tr th {\n",
       "        vertical-align: top;\n",
       "    }\n",
       "\n",
       "    .dataframe thead th {\n",
       "        text-align: right;\n",
       "    }\n",
       "</style>\n",
       "<table border=\"1\" class=\"dataframe\">\n",
       "  <thead>\n",
       "    <tr style=\"text-align: right;\">\n",
       "      <th></th>\n",
       "      <th>Province_State</th>\n",
       "      <th>Country_Region</th>\n",
       "      <th>Last_Update</th>\n",
       "      <th>Lat</th>\n",
       "      <th>Long_</th>\n",
       "      <th>Confirmed</th>\n",
       "      <th>Deaths</th>\n",
       "      <th>Recovered</th>\n",
       "      <th>Active</th>\n",
       "      <th>FIPS</th>\n",
       "      <th>Incident_Rate</th>\n",
       "      <th>People_Tested</th>\n",
       "      <th>People_Hospitalized</th>\n",
       "      <th>Mortality_Rate</th>\n",
       "      <th>UID</th>\n",
       "      <th>ISO3</th>\n",
       "      <th>Testing_Rate</th>\n",
       "      <th>Hospitalization_Rate</th>\n",
       "    </tr>\n",
       "  </thead>\n",
       "  <tbody>\n",
       "    <tr>\n",
       "      <th>0</th>\n",
       "      <td>Alabama</td>\n",
       "      <td>US</td>\n",
       "      <td>21-05-20 2:32</td>\n",
       "      <td>32.3182</td>\n",
       "      <td>-86.9023</td>\n",
       "      <td>13052</td>\n",
       "      <td>522</td>\n",
       "      <td>NaN</td>\n",
       "      <td>12530</td>\n",
       "      <td>1</td>\n",
       "      <td>266.194321</td>\n",
       "      <td>164450.0</td>\n",
       "      <td>1493.0</td>\n",
       "      <td>3.999387</td>\n",
       "      <td>84000001</td>\n",
       "      <td>USA</td>\n",
       "      <td>3353.942386</td>\n",
       "      <td>11.438860</td>\n",
       "    </tr>\n",
       "    <tr>\n",
       "      <th>1</th>\n",
       "      <td>Alaska</td>\n",
       "      <td>US</td>\n",
       "      <td>21-05-20 2:32</td>\n",
       "      <td>61.3707</td>\n",
       "      <td>-152.4044</td>\n",
       "      <td>401</td>\n",
       "      <td>10</td>\n",
       "      <td>352.0</td>\n",
       "      <td>39</td>\n",
       "      <td>2</td>\n",
       "      <td>54.815493</td>\n",
       "      <td>37045.0</td>\n",
       "      <td>NaN</td>\n",
       "      <td>2.493766</td>\n",
       "      <td>84000002</td>\n",
       "      <td>USA</td>\n",
       "      <td>5063.940017</td>\n",
       "      <td>NaN</td>\n",
       "    </tr>\n",
       "    <tr>\n",
       "      <th>2</th>\n",
       "      <td>American Samoa</td>\n",
       "      <td>US</td>\n",
       "      <td>21-05-20 2:32</td>\n",
       "      <td>-14.2710</td>\n",
       "      <td>-170.1320</td>\n",
       "      <td>0</td>\n",
       "      <td>0</td>\n",
       "      <td>NaN</td>\n",
       "      <td>0</td>\n",
       "      <td>60</td>\n",
       "      <td>0.000000</td>\n",
       "      <td>124.0</td>\n",
       "      <td>NaN</td>\n",
       "      <td>NaN</td>\n",
       "      <td>16</td>\n",
       "      <td>ASM</td>\n",
       "      <td>222.857246</td>\n",
       "      <td>NaN</td>\n",
       "    </tr>\n",
       "    <tr>\n",
       "      <th>3</th>\n",
       "      <td>Arizona</td>\n",
       "      <td>US</td>\n",
       "      <td>21-05-20 2:32</td>\n",
       "      <td>33.7298</td>\n",
       "      <td>-111.4312</td>\n",
       "      <td>14906</td>\n",
       "      <td>747</td>\n",
       "      <td>3773.0</td>\n",
       "      <td>10386</td>\n",
       "      <td>4</td>\n",
       "      <td>204.788838</td>\n",
       "      <td>165435.0</td>\n",
       "      <td>1792.0</td>\n",
       "      <td>5.011405</td>\n",
       "      <td>84000004</td>\n",
       "      <td>USA</td>\n",
       "      <td>2272.859351</td>\n",
       "      <td>12.022005</td>\n",
       "    </tr>\n",
       "    <tr>\n",
       "      <th>4</th>\n",
       "      <td>Arkansas</td>\n",
       "      <td>US</td>\n",
       "      <td>21-05-20 2:32</td>\n",
       "      <td>34.9697</td>\n",
       "      <td>-92.3731</td>\n",
       "      <td>5003</td>\n",
       "      <td>107</td>\n",
       "      <td>3852.0</td>\n",
       "      <td>1044</td>\n",
       "      <td>5</td>\n",
       "      <td>165.782801</td>\n",
       "      <td>96258.0</td>\n",
       "      <td>535.0</td>\n",
       "      <td>2.138717</td>\n",
       "      <td>84000005</td>\n",
       "      <td>USA</td>\n",
       "      <td>3189.670370</td>\n",
       "      <td>10.693584</td>\n",
       "    </tr>\n",
       "  </tbody>\n",
       "</table>\n",
       "</div>"
      ],
      "text/plain": [
       "   Province_State Country_Region    Last_Update      Lat     Long_  Confirmed  \\\n",
       "0         Alabama             US  21-05-20 2:32  32.3182  -86.9023      13052   \n",
       "1          Alaska             US  21-05-20 2:32  61.3707 -152.4044        401   \n",
       "2  American Samoa             US  21-05-20 2:32 -14.2710 -170.1320          0   \n",
       "3         Arizona             US  21-05-20 2:32  33.7298 -111.4312      14906   \n",
       "4        Arkansas             US  21-05-20 2:32  34.9697  -92.3731       5003   \n",
       "\n",
       "   Deaths  Recovered  Active  FIPS  Incident_Rate  People_Tested  \\\n",
       "0     522        NaN   12530     1     266.194321       164450.0   \n",
       "1      10      352.0      39     2      54.815493        37045.0   \n",
       "2       0        NaN       0    60       0.000000          124.0   \n",
       "3     747     3773.0   10386     4     204.788838       165435.0   \n",
       "4     107     3852.0    1044     5     165.782801        96258.0   \n",
       "\n",
       "   People_Hospitalized  Mortality_Rate       UID ISO3  Testing_Rate  \\\n",
       "0               1493.0        3.999387  84000001  USA   3353.942386   \n",
       "1                  NaN        2.493766  84000002  USA   5063.940017   \n",
       "2                  NaN             NaN        16  ASM    222.857246   \n",
       "3               1792.0        5.011405  84000004  USA   2272.859351   \n",
       "4                535.0        2.138717  84000005  USA   3189.670370   \n",
       "\n",
       "   Hospitalization_Rate  \n",
       "0             11.438860  \n",
       "1                   NaN  \n",
       "2                   NaN  \n",
       "3             12.022005  \n",
       "4             10.693584  "
      ]
     },
     "execution_count": 2,
     "metadata": {},
     "output_type": "execute_result"
    }
   ],
   "source": [
    "#loading the dataset\n",
    "df=pd.read_csv('covid_19_daily_reports_us.csv')\n",
    "df.head()"
   ]
  },
  {
   "cell_type": "code",
   "execution_count": 3,
   "id": "divine-palmer",
   "metadata": {},
   "outputs": [
    {
     "data": {
      "text/plain": [
       "(58, 18)"
      ]
     },
     "execution_count": 3,
     "metadata": {},
     "output_type": "execute_result"
    }
   ],
   "source": [
    "df.shape"
   ]
  },
  {
   "cell_type": "code",
   "execution_count": 4,
   "id": "herbal-fabric",
   "metadata": {},
   "outputs": [
    {
     "data": {
      "text/plain": [
       "Index(['Province_State', 'Country_Region', 'Last_Update', 'Lat', 'Long_',\n",
       "       'Confirmed', 'Deaths', 'Recovered', 'Active', 'FIPS', 'Incident_Rate',\n",
       "       'People_Tested', 'People_Hospitalized', 'Mortality_Rate', 'UID', 'ISO3',\n",
       "       'Testing_Rate', 'Hospitalization_Rate'],\n",
       "      dtype='object')"
      ]
     },
     "execution_count": 4,
     "metadata": {},
     "output_type": "execute_result"
    }
   ],
   "source": [
    "df.columns"
   ]
  },
  {
   "cell_type": "code",
   "execution_count": 5,
   "id": "controlled-emperor",
   "metadata": {},
   "outputs": [
    {
     "data": {
      "text/plain": [
       "Province_State           object\n",
       "Country_Region           object\n",
       "Last_Update              object\n",
       "Lat                     float64\n",
       "Long_                   float64\n",
       "Confirmed                 int64\n",
       "Deaths                    int64\n",
       "Recovered               float64\n",
       "Active                    int64\n",
       "FIPS                      int64\n",
       "Incident_Rate           float64\n",
       "People_Tested           float64\n",
       "People_Hospitalized     float64\n",
       "Mortality_Rate          float64\n",
       "UID                       int64\n",
       "ISO3                     object\n",
       "Testing_Rate            float64\n",
       "Hospitalization_Rate    float64\n",
       "dtype: object"
      ]
     },
     "execution_count": 5,
     "metadata": {},
     "output_type": "execute_result"
    }
   ],
   "source": [
    "df.dtypes"
   ]
  },
  {
   "cell_type": "code",
   "execution_count": 6,
   "id": "demanding-spirit",
   "metadata": {},
   "outputs": [
    {
     "name": "stdout",
     "output_type": "stream",
     "text": [
      "<class 'pandas.core.frame.DataFrame'>\n",
      "RangeIndex: 58 entries, 0 to 57\n",
      "Data columns (total 18 columns):\n",
      " #   Column                Non-Null Count  Dtype  \n",
      "---  ------                --------------  -----  \n",
      " 0   Province_State        58 non-null     object \n",
      " 1   Country_Region        58 non-null     object \n",
      " 2   Last_Update           58 non-null     object \n",
      " 3   Lat                   56 non-null     float64\n",
      " 4   Long_                 56 non-null     float64\n",
      " 5   Confirmed             58 non-null     int64  \n",
      " 6   Deaths                58 non-null     int64  \n",
      " 7   Recovered             42 non-null     float64\n",
      " 8   Active                58 non-null     int64  \n",
      " 9   FIPS                  58 non-null     int64  \n",
      " 10  Incident_Rate         56 non-null     float64\n",
      " 11  People_Tested         56 non-null     float64\n",
      " 12  People_Hospitalized   33 non-null     float64\n",
      " 13  Mortality_Rate        57 non-null     float64\n",
      " 14  UID                   58 non-null     int64  \n",
      " 15  ISO3                  58 non-null     object \n",
      " 16  Testing_Rate          56 non-null     float64\n",
      " 17  Hospitalization_Rate  33 non-null     float64\n",
      "dtypes: float64(9), int64(5), object(4)\n",
      "memory usage: 8.3+ KB\n"
     ]
    }
   ],
   "source": [
    "df.info()"
   ]
  },
  {
   "cell_type": "raw",
   "id": "copyrighted-economics",
   "metadata": {},
   "source": [
    "Observation:\n",
    "1. there are 58 rows & 18 columns\n",
    "2. there are no missing value"
   ]
  },
  {
   "cell_type": "markdown",
   "id": "scientific-scoop",
   "metadata": {},
   "source": [
    "# Summary Statistics"
   ]
  },
  {
   "cell_type": "code",
   "execution_count": 7,
   "id": "golden-norman",
   "metadata": {},
   "outputs": [
    {
     "data": {
      "text/html": [
       "<div>\n",
       "<style scoped>\n",
       "    .dataframe tbody tr th:only-of-type {\n",
       "        vertical-align: middle;\n",
       "    }\n",
       "\n",
       "    .dataframe tbody tr th {\n",
       "        vertical-align: top;\n",
       "    }\n",
       "\n",
       "    .dataframe thead th {\n",
       "        text-align: right;\n",
       "    }\n",
       "</style>\n",
       "<table border=\"1\" class=\"dataframe\">\n",
       "  <thead>\n",
       "    <tr style=\"text-align: right;\">\n",
       "      <th></th>\n",
       "      <th>Lat</th>\n",
       "      <th>Long_</th>\n",
       "      <th>Confirmed</th>\n",
       "      <th>Deaths</th>\n",
       "      <th>Recovered</th>\n",
       "      <th>Active</th>\n",
       "      <th>FIPS</th>\n",
       "      <th>Incident_Rate</th>\n",
       "      <th>People_Tested</th>\n",
       "      <th>People_Hospitalized</th>\n",
       "      <th>Mortality_Rate</th>\n",
       "      <th>UID</th>\n",
       "      <th>Testing_Rate</th>\n",
       "      <th>Hospitalization_Rate</th>\n",
       "    </tr>\n",
       "  </thead>\n",
       "  <tbody>\n",
       "    <tr>\n",
       "      <th>count</th>\n",
       "      <td>56.000000</td>\n",
       "      <td>56.000000</td>\n",
       "      <td>58.000000</td>\n",
       "      <td>58.000000</td>\n",
       "      <td>42.000000</td>\n",
       "      <td>58.000000</td>\n",
       "      <td>58.000000</td>\n",
       "      <td>56.000000</td>\n",
       "      <td>5.600000e+01</td>\n",
       "      <td>33.000000</td>\n",
       "      <td>57.000000</td>\n",
       "      <td>5.800000e+01</td>\n",
       "      <td>56.000000</td>\n",
       "      <td>33.000000</td>\n",
       "    </tr>\n",
       "    <tr>\n",
       "      <th>mean</th>\n",
       "      <td>36.840089</td>\n",
       "      <td>-85.206614</td>\n",
       "      <td>26756.086207</td>\n",
       "      <td>1611.017241</td>\n",
       "      <td>7007.428571</td>\n",
       "      <td>20070.724138</td>\n",
       "      <td>3288.086207</td>\n",
       "      <td>396.230806</td>\n",
       "      <td>2.258534e+05</td>\n",
       "      <td>4897.454545</td>\n",
       "      <td>4.458248</td>\n",
       "      <td>7.676194e+07</td>\n",
       "      <td>3894.186870</td>\n",
       "      <td>14.342541</td>\n",
       "    </tr>\n",
       "    <tr>\n",
       "      <th>std</th>\n",
       "      <td>10.887035</td>\n",
       "      <td>49.754449</td>\n",
       "      <td>52562.031122</td>\n",
       "      <td>4084.750891</td>\n",
       "      <td>11674.490020</td>\n",
       "      <td>41294.705318</td>\n",
       "      <td>17408.350591</td>\n",
       "      <td>402.682539</td>\n",
       "      <td>2.987834e+05</td>\n",
       "      <td>13185.628145</td>\n",
       "      <td>2.135002</td>\n",
       "      <td>2.378302e+07</td>\n",
       "      <td>1933.169297</td>\n",
       "      <td>5.047403</td>\n",
       "    </tr>\n",
       "    <tr>\n",
       "      <th>min</th>\n",
       "      <td>-14.271000</td>\n",
       "      <td>-170.132000</td>\n",
       "      <td>0.000000</td>\n",
       "      <td>0.000000</td>\n",
       "      <td>13.000000</td>\n",
       "      <td>0.000000</td>\n",
       "      <td>1.000000</td>\n",
       "      <td>0.000000</td>\n",
       "      <td>1.240000e+02</td>\n",
       "      <td>65.000000</td>\n",
       "      <td>0.000000</td>\n",
       "      <td>1.600000e+01</td>\n",
       "      <td>97.702058</td>\n",
       "      <td>6.778043</td>\n",
       "    </tr>\n",
       "    <tr>\n",
       "      <th>25%</th>\n",
       "      <td>34.594600</td>\n",
       "      <td>-101.165775</td>\n",
       "      <td>2596.000000</td>\n",
       "      <td>74.000000</td>\n",
       "      <td>970.000000</td>\n",
       "      <td>812.500000</td>\n",
       "      <td>18.250000</td>\n",
       "      <td>148.521021</td>\n",
       "      <td>4.608100e+04</td>\n",
       "      <td>535.000000</td>\n",
       "      <td>3.072626</td>\n",
       "      <td>8.400001e+07</td>\n",
       "      <td>2712.800275</td>\n",
       "      <td>10.000000</td>\n",
       "    </tr>\n",
       "    <tr>\n",
       "      <th>50%</th>\n",
       "      <td>39.061850</td>\n",
       "      <td>-87.944200</td>\n",
       "      <td>10148.500000</td>\n",
       "      <td>385.000000</td>\n",
       "      <td>3008.000000</td>\n",
       "      <td>5644.500000</td>\n",
       "      <td>32.500000</td>\n",
       "      <td>250.477287</td>\n",
       "      <td>1.386545e+05</td>\n",
       "      <td>1493.000000</td>\n",
       "      <td>4.403318</td>\n",
       "      <td>8.400003e+07</td>\n",
       "      <td>3469.782532</td>\n",
       "      <td>13.598326</td>\n",
       "    </tr>\n",
       "    <tr>\n",
       "      <th>75%</th>\n",
       "      <td>42.361650</td>\n",
       "      <td>-76.970625</td>\n",
       "      <td>29395.500000</td>\n",
       "      <td>1394.250000</td>\n",
       "      <td>7326.750000</td>\n",
       "      <td>19291.250000</td>\n",
       "      <td>47.750000</td>\n",
       "      <td>477.888542</td>\n",
       "      <td>2.796948e+05</td>\n",
       "      <td>4389.000000</td>\n",
       "      <td>5.466238</td>\n",
       "      <td>8.400004e+07</td>\n",
       "      <td>4763.649736</td>\n",
       "      <td>17.658649</td>\n",
       "    </tr>\n",
       "    <tr>\n",
       "      <th>max</th>\n",
       "      <td>61.370700</td>\n",
       "      <td>145.673900</td>\n",
       "      <td>354370.000000</td>\n",
       "      <td>28636.000000</td>\n",
       "      <td>61886.000000</td>\n",
       "      <td>263848.000000</td>\n",
       "      <td>99999.000000</td>\n",
       "      <td>1821.620216</td>\n",
       "      <td>1.505836e+06</td>\n",
       "      <td>76410.000000</td>\n",
       "      <td>9.545549</td>\n",
       "      <td>8.410000e+07</td>\n",
       "      <td>11377.424690</td>\n",
       "      <td>28.054438</td>\n",
       "    </tr>\n",
       "  </tbody>\n",
       "</table>\n",
       "</div>"
      ],
      "text/plain": [
       "             Lat       Long_      Confirmed        Deaths     Recovered  \\\n",
       "count  56.000000   56.000000      58.000000     58.000000     42.000000   \n",
       "mean   36.840089  -85.206614   26756.086207   1611.017241   7007.428571   \n",
       "std    10.887035   49.754449   52562.031122   4084.750891  11674.490020   \n",
       "min   -14.271000 -170.132000       0.000000      0.000000     13.000000   \n",
       "25%    34.594600 -101.165775    2596.000000     74.000000    970.000000   \n",
       "50%    39.061850  -87.944200   10148.500000    385.000000   3008.000000   \n",
       "75%    42.361650  -76.970625   29395.500000   1394.250000   7326.750000   \n",
       "max    61.370700  145.673900  354370.000000  28636.000000  61886.000000   \n",
       "\n",
       "              Active          FIPS  Incident_Rate  People_Tested  \\\n",
       "count      58.000000     58.000000      56.000000   5.600000e+01   \n",
       "mean    20070.724138   3288.086207     396.230806   2.258534e+05   \n",
       "std     41294.705318  17408.350591     402.682539   2.987834e+05   \n",
       "min         0.000000      1.000000       0.000000   1.240000e+02   \n",
       "25%       812.500000     18.250000     148.521021   4.608100e+04   \n",
       "50%      5644.500000     32.500000     250.477287   1.386545e+05   \n",
       "75%     19291.250000     47.750000     477.888542   2.796948e+05   \n",
       "max    263848.000000  99999.000000    1821.620216   1.505836e+06   \n",
       "\n",
       "       People_Hospitalized  Mortality_Rate           UID  Testing_Rate  \\\n",
       "count            33.000000       57.000000  5.800000e+01     56.000000   \n",
       "mean           4897.454545        4.458248  7.676194e+07   3894.186870   \n",
       "std           13185.628145        2.135002  2.378302e+07   1933.169297   \n",
       "min              65.000000        0.000000  1.600000e+01     97.702058   \n",
       "25%             535.000000        3.072626  8.400001e+07   2712.800275   \n",
       "50%            1493.000000        4.403318  8.400003e+07   3469.782532   \n",
       "75%            4389.000000        5.466238  8.400004e+07   4763.649736   \n",
       "max           76410.000000        9.545549  8.410000e+07  11377.424690   \n",
       "\n",
       "       Hospitalization_Rate  \n",
       "count             33.000000  \n",
       "mean              14.342541  \n",
       "std                5.047403  \n",
       "min                6.778043  \n",
       "25%               10.000000  \n",
       "50%               13.598326  \n",
       "75%               17.658649  \n",
       "max               28.054438  "
      ]
     },
     "execution_count": 7,
     "metadata": {},
     "output_type": "execute_result"
    }
   ],
   "source": [
    "df.describe ()"
   ]
  },
  {
   "cell_type": "code",
   "execution_count": 8,
   "id": "public-bumper",
   "metadata": {},
   "outputs": [
    {
     "data": {
      "text/plain": [
       "array([  522,    10,     0,   747,   107,  3497,  1299,  3529,   310,\n",
       "         407,  2096,  1697,     3,     5,    17,    77,  4525,  1864,\n",
       "         393,   202,   376,  2608,    73,  2123,  6066,  5060,   786,\n",
       "         570,   640,    16,   138,   377,   190, 10749,   283, 28636,\n",
       "         726,    49,     2,  1781,   299,   144,  4770,   125,   538,\n",
       "          46,   305,  1426,    90,    54,     6,  1075,  1037,    69,\n",
       "         481,    11], dtype=int64)"
      ]
     },
     "execution_count": 8,
     "metadata": {},
     "output_type": "execute_result"
    }
   ],
   "source": [
    "df['Deaths'].unique()"
   ]
  },
  {
   "cell_type": "code",
   "execution_count": 9,
   "id": "technological-spelling",
   "metadata": {},
   "outputs": [
    {
     "data": {
      "text/plain": [
       "array([       nan, 3.5200e+02, 3.7730e+03, 3.8520e+03, 3.4780e+03,\n",
       "       6.2640e+03, 3.9650e+03, 1.0590e+03, 1.2500e+02, 5.7800e+02,\n",
       "       1.6680e+03, 8.3620e+03, 4.7300e+02, 2.8260e+03, 2.6249e+04,\n",
       "       1.1000e+03, 2.9930e+03, 2.8234e+04, 1.2227e+04, 7.6810e+03,\n",
       "       4.4000e+02, 3.3600e+02, 1.2750e+03, 2.3945e+04, 1.8820e+03,\n",
       "       6.1886e+04, 1.1637e+04, 1.3020e+03, 1.3000e+01, 4.2660e+03,\n",
       "       1.4060e+03, 1.0300e+03, 5.4510e+03, 3.0230e+03, 1.1783e+04,\n",
       "       3.0341e+04, 4.4230e+03, 8.2400e+02, 6.1000e+01, 4.5230e+03,\n",
       "       9.5000e+02, 7.7280e+03, 5.2800e+02])"
      ]
     },
     "execution_count": 9,
     "metadata": {},
     "output_type": "execute_result"
    }
   ],
   "source": [
    "df ['Recovered'].unique()"
   ]
  },
  {
   "cell_type": "markdown",
   "id": "informal-infrared",
   "metadata": {},
   "source": [
    "# Missing Values"
   ]
  },
  {
   "cell_type": "code",
   "execution_count": 10,
   "id": "unknown-elder",
   "metadata": {},
   "outputs": [
    {
     "data": {
      "text/plain": [
       "Province_State           0\n",
       "Country_Region           0\n",
       "Last_Update              0\n",
       "Lat                      2\n",
       "Long_                    2\n",
       "Confirmed                0\n",
       "Deaths                   0\n",
       "Recovered               16\n",
       "Active                   0\n",
       "FIPS                     0\n",
       "Incident_Rate            2\n",
       "People_Tested            2\n",
       "People_Hospitalized     25\n",
       "Mortality_Rate           1\n",
       "UID                      0\n",
       "ISO3                     0\n",
       "Testing_Rate             2\n",
       "Hospitalization_Rate    25\n",
       "dtype: int64"
      ]
     },
     "execution_count": 10,
     "metadata": {},
     "output_type": "execute_result"
    }
   ],
   "source": [
    "#checking for null values\n",
    "df.isnull ().sum()"
   ]
  },
  {
   "cell_type": "code",
   "execution_count": 11,
   "id": "resident-agreement",
   "metadata": {},
   "outputs": [
    {
     "data": {
      "text/plain": [
       "<AxesSubplot:>"
      ]
     },
     "execution_count": 11,
     "metadata": {},
     "output_type": "execute_result"
    },
    {
     "data": {
      "image/png": "[encoded data removed]",
      "text/plain": [
       "<Figure size 720x576 with 1 Axes>"
      ]
     },
     "metadata": {
      "needs_background": "light"
     },
     "output_type": "display_data"
    }
   ],
   "source": [
    "plt.figure (figsize = (10,8))\n",
    "sns.heatmap (df.isnull(), yticklabels= False , cbar= False , cmap='tab10', annot= True)"
   ]
  },
  {
   "cell_type": "raw",
   "id": "growing-debut",
   "metadata": {},
   "source": [
    "Observation:\n",
    "Maximum null values are present in 'People_Hospitalized' & 'Hospitalization_Rate'. So we can drop this two columns."
   ]
  },
  {
   "cell_type": "code",
   "execution_count": 12,
   "id": "accompanied-front",
   "metadata": {},
   "outputs": [],
   "source": [
    "#Removing columns with maximum null values \n",
    "df=df.drop(['Hospitalization_Rate'],axis=1)"
   ]
  },
  {
   "cell_type": "code",
   "execution_count": 13,
   "id": "exposed-turning",
   "metadata": {},
   "outputs": [],
   "source": [
    "df=df.drop(['People_Hospitalized'],axis=1)"
   ]
  },
  {
   "cell_type": "code",
   "execution_count": 14,
   "id": "celtic-technician",
   "metadata": {},
   "outputs": [
    {
     "data": {
      "text/html": [
       "<div>\n",
       "<style scoped>\n",
       "    .dataframe tbody tr th:only-of-type {\n",
       "        vertical-align: middle;\n",
       "    }\n",
       "\n",
       "    .dataframe tbody tr th {\n",
       "        vertical-align: top;\n",
       "    }\n",
       "\n",
       "    .dataframe thead th {\n",
       "        text-align: right;\n",
       "    }\n",
       "</style>\n",
       "<table border=\"1\" class=\"dataframe\">\n",
       "  <thead>\n",
       "    <tr style=\"text-align: right;\">\n",
       "      <th></th>\n",
       "      <th>Province_State</th>\n",
       "      <th>Country_Region</th>\n",
       "      <th>Last_Update</th>\n",
       "      <th>Lat</th>\n",
       "      <th>Long_</th>\n",
       "      <th>Confirmed</th>\n",
       "      <th>Deaths</th>\n",
       "      <th>Recovered</th>\n",
       "      <th>Active</th>\n",
       "      <th>FIPS</th>\n",
       "      <th>Incident_Rate</th>\n",
       "      <th>People_Tested</th>\n",
       "      <th>Mortality_Rate</th>\n",
       "      <th>UID</th>\n",
       "      <th>ISO3</th>\n",
       "      <th>Testing_Rate</th>\n",
       "    </tr>\n",
       "  </thead>\n",
       "  <tbody>\n",
       "    <tr>\n",
       "      <th>0</th>\n",
       "      <td>Alabama</td>\n",
       "      <td>US</td>\n",
       "      <td>21-05-20 2:32</td>\n",
       "      <td>32.3182</td>\n",
       "      <td>-86.9023</td>\n",
       "      <td>13052</td>\n",
       "      <td>522</td>\n",
       "      <td>NaN</td>\n",
       "      <td>12530</td>\n",
       "      <td>1</td>\n",
       "      <td>266.194321</td>\n",
       "      <td>164450.0</td>\n",
       "      <td>3.999387</td>\n",
       "      <td>84000001</td>\n",
       "      <td>USA</td>\n",
       "      <td>3353.942386</td>\n",
       "    </tr>\n",
       "    <tr>\n",
       "      <th>1</th>\n",
       "      <td>Alaska</td>\n",
       "      <td>US</td>\n",
       "      <td>21-05-20 2:32</td>\n",
       "      <td>61.3707</td>\n",
       "      <td>-152.4044</td>\n",
       "      <td>401</td>\n",
       "      <td>10</td>\n",
       "      <td>352.0</td>\n",
       "      <td>39</td>\n",
       "      <td>2</td>\n",
       "      <td>54.815493</td>\n",
       "      <td>37045.0</td>\n",
       "      <td>2.493766</td>\n",
       "      <td>84000002</td>\n",
       "      <td>USA</td>\n",
       "      <td>5063.940017</td>\n",
       "    </tr>\n",
       "    <tr>\n",
       "      <th>2</th>\n",
       "      <td>American Samoa</td>\n",
       "      <td>US</td>\n",
       "      <td>21-05-20 2:32</td>\n",
       "      <td>-14.2710</td>\n",
       "      <td>-170.1320</td>\n",
       "      <td>0</td>\n",
       "      <td>0</td>\n",
       "      <td>NaN</td>\n",
       "      <td>0</td>\n",
       "      <td>60</td>\n",
       "      <td>0.000000</td>\n",
       "      <td>124.0</td>\n",
       "      <td>NaN</td>\n",
       "      <td>16</td>\n",
       "      <td>ASM</td>\n",
       "      <td>222.857246</td>\n",
       "    </tr>\n",
       "    <tr>\n",
       "      <th>3</th>\n",
       "      <td>Arizona</td>\n",
       "      <td>US</td>\n",
       "      <td>21-05-20 2:32</td>\n",
       "      <td>33.7298</td>\n",
       "      <td>-111.4312</td>\n",
       "      <td>14906</td>\n",
       "      <td>747</td>\n",
       "      <td>3773.0</td>\n",
       "      <td>10386</td>\n",
       "      <td>4</td>\n",
       "      <td>204.788838</td>\n",
       "      <td>165435.0</td>\n",
       "      <td>5.011405</td>\n",
       "      <td>84000004</td>\n",
       "      <td>USA</td>\n",
       "      <td>2272.859351</td>\n",
       "    </tr>\n",
       "    <tr>\n",
       "      <th>4</th>\n",
       "      <td>Arkansas</td>\n",
       "      <td>US</td>\n",
       "      <td>21-05-20 2:32</td>\n",
       "      <td>34.9697</td>\n",
       "      <td>-92.3731</td>\n",
       "      <td>5003</td>\n",
       "      <td>107</td>\n",
       "      <td>3852.0</td>\n",
       "      <td>1044</td>\n",
       "      <td>5</td>\n",
       "      <td>165.782801</td>\n",
       "      <td>96258.0</td>\n",
       "      <td>2.138717</td>\n",
       "      <td>84000005</td>\n",
       "      <td>USA</td>\n",
       "      <td>3189.670370</td>\n",
       "    </tr>\n",
       "  </tbody>\n",
       "</table>\n",
       "</div>"
      ],
      "text/plain": [
       "   Province_State Country_Region    Last_Update      Lat     Long_  Confirmed  \\\n",
       "0         Alabama             US  21-05-20 2:32  32.3182  -86.9023      13052   \n",
       "1          Alaska             US  21-05-20 2:32  61.3707 -152.4044        401   \n",
       "2  American Samoa             US  21-05-20 2:32 -14.2710 -170.1320          0   \n",
       "3         Arizona             US  21-05-20 2:32  33.7298 -111.4312      14906   \n",
       "4        Arkansas             US  21-05-20 2:32  34.9697  -92.3731       5003   \n",
       "\n",
       "   Deaths  Recovered  Active  FIPS  Incident_Rate  People_Tested  \\\n",
       "0     522        NaN   12530     1     266.194321       164450.0   \n",
       "1      10      352.0      39     2      54.815493        37045.0   \n",
       "2       0        NaN       0    60       0.000000          124.0   \n",
       "3     747     3773.0   10386     4     204.788838       165435.0   \n",
       "4     107     3852.0    1044     5     165.782801        96258.0   \n",
       "\n",
       "   Mortality_Rate       UID ISO3  Testing_Rate  \n",
       "0        3.999387  84000001  USA   3353.942386  \n",
       "1        2.493766  84000002  USA   5063.940017  \n",
       "2             NaN        16  ASM    222.857246  \n",
       "3        5.011405  84000004  USA   2272.859351  \n",
       "4        2.138717  84000005  USA   3189.670370  "
      ]
     },
     "execution_count": 14,
     "metadata": {},
     "output_type": "execute_result"
    }
   ],
   "source": [
    "df.head()"
   ]
  },
  {
   "cell_type": "code",
   "execution_count": 15,
   "id": "automatic-briefing",
   "metadata": {},
   "outputs": [
    {
     "data": {
      "text/plain": [
       "(58, 16)"
      ]
     },
     "execution_count": 15,
     "metadata": {},
     "output_type": "execute_result"
    }
   ],
   "source": [
    "df.shape"
   ]
  },
  {
   "cell_type": "markdown",
   "id": "trained-literature",
   "metadata": {},
   "source": [
    "# Correlation"
   ]
  },
  {
   "cell_type": "code",
   "execution_count": 16,
   "id": "under-facility",
   "metadata": {},
   "outputs": [
    {
     "data": {
      "text/html": [
       "<div>\n",
       "<style scoped>\n",
       "    .dataframe tbody tr th:only-of-type {\n",
       "        vertical-align: middle;\n",
       "    }\n",
       "\n",
       "    .dataframe tbody tr th {\n",
       "        vertical-align: top;\n",
       "    }\n",
       "\n",
       "    .dataframe thead th {\n",
       "        text-align: right;\n",
       "    }\n",
       "</style>\n",
       "<table border=\"1\" class=\"dataframe\">\n",
       "  <thead>\n",
       "    <tr style=\"text-align: right;\">\n",
       "      <th></th>\n",
       "      <th>Lat</th>\n",
       "      <th>Long_</th>\n",
       "      <th>Confirmed</th>\n",
       "      <th>Deaths</th>\n",
       "      <th>Recovered</th>\n",
       "      <th>Active</th>\n",
       "      <th>FIPS</th>\n",
       "      <th>Incident_Rate</th>\n",
       "      <th>People_Tested</th>\n",
       "      <th>Mortality_Rate</th>\n",
       "      <th>UID</th>\n",
       "      <th>Testing_Rate</th>\n",
       "    </tr>\n",
       "  </thead>\n",
       "  <tbody>\n",
       "    <tr>\n",
       "      <th>Lat</th>\n",
       "      <td>1.000000</td>\n",
       "      <td>-0.278274</td>\n",
       "      <td>0.120959</td>\n",
       "      <td>0.120024</td>\n",
       "      <td>0.043318</td>\n",
       "      <td>0.120148</td>\n",
       "      <td>-0.374943</td>\n",
       "      <td>0.245693</td>\n",
       "      <td>0.084769</td>\n",
       "      <td>-0.189675</td>\n",
       "      <td>0.774106</td>\n",
       "      <td>0.309579</td>\n",
       "    </tr>\n",
       "    <tr>\n",
       "      <th>Long_</th>\n",
       "      <td>-0.278274</td>\n",
       "      <td>1.000000</td>\n",
       "      <td>0.009998</td>\n",
       "      <td>0.028772</td>\n",
       "      <td>-0.043379</td>\n",
       "      <td>0.011654</td>\n",
       "      <td>0.367911</td>\n",
       "      <td>0.041318</td>\n",
       "      <td>-0.077781</td>\n",
       "      <td>0.318569</td>\n",
       "      <td>-0.526908</td>\n",
       "      <td>0.190191</td>\n",
       "    </tr>\n",
       "    <tr>\n",
       "      <th>Confirmed</th>\n",
       "      <td>0.120959</td>\n",
       "      <td>0.009998</td>\n",
       "      <td>1.000000</td>\n",
       "      <td>0.982191</td>\n",
       "      <td>0.876856</td>\n",
       "      <td>0.985218</td>\n",
       "      <td>-0.096696</td>\n",
       "      <td>0.711776</td>\n",
       "      <td>0.828022</td>\n",
       "      <td>0.383425</td>\n",
       "      <td>0.153972</td>\n",
       "      <td>0.334032</td>\n",
       "    </tr>\n",
       "    <tr>\n",
       "      <th>Deaths</th>\n",
       "      <td>0.120024</td>\n",
       "      <td>0.028772</td>\n",
       "      <td>0.982191</td>\n",
       "      <td>1.000000</td>\n",
       "      <td>0.856295</td>\n",
       "      <td>0.954378</td>\n",
       "      <td>-0.075053</td>\n",
       "      <td>0.712117</td>\n",
       "      <td>0.741730</td>\n",
       "      <td>0.427721</td>\n",
       "      <td>0.120043</td>\n",
       "      <td>0.345441</td>\n",
       "    </tr>\n",
       "    <tr>\n",
       "      <th>Recovered</th>\n",
       "      <td>0.043318</td>\n",
       "      <td>-0.043379</td>\n",
       "      <td>0.876856</td>\n",
       "      <td>0.856295</td>\n",
       "      <td>1.000000</td>\n",
       "      <td>0.809437</td>\n",
       "      <td>-0.013571</td>\n",
       "      <td>0.592014</td>\n",
       "      <td>0.950785</td>\n",
       "      <td>0.362330</td>\n",
       "      <td>0.166898</td>\n",
       "      <td>0.252155</td>\n",
       "    </tr>\n",
       "    <tr>\n",
       "      <th>Active</th>\n",
       "      <td>0.120148</td>\n",
       "      <td>0.011654</td>\n",
       "      <td>0.985218</td>\n",
       "      <td>0.954378</td>\n",
       "      <td>0.809437</td>\n",
       "      <td>1.000000</td>\n",
       "      <td>-0.092276</td>\n",
       "      <td>0.703931</td>\n",
       "      <td>0.829687</td>\n",
       "      <td>0.368403</td>\n",
       "      <td>0.146354</td>\n",
       "      <td>0.322773</td>\n",
       "    </tr>\n",
       "    <tr>\n",
       "      <th>FIPS</th>\n",
       "      <td>-0.374943</td>\n",
       "      <td>0.367911</td>\n",
       "      <td>-0.096696</td>\n",
       "      <td>-0.075053</td>\n",
       "      <td>-0.013571</td>\n",
       "      <td>-0.092276</td>\n",
       "      <td>1.000000</td>\n",
       "      <td>-0.220264</td>\n",
       "      <td>-0.194011</td>\n",
       "      <td>-0.262258</td>\n",
       "      <td>0.058022</td>\n",
       "      <td>-0.092705</td>\n",
       "    </tr>\n",
       "    <tr>\n",
       "      <th>Incident_Rate</th>\n",
       "      <td>0.245693</td>\n",
       "      <td>0.041318</td>\n",
       "      <td>0.711776</td>\n",
       "      <td>0.712117</td>\n",
       "      <td>0.592014</td>\n",
       "      <td>0.703931</td>\n",
       "      <td>-0.220264</td>\n",
       "      <td>1.000000</td>\n",
       "      <td>0.441669</td>\n",
       "      <td>0.373338</td>\n",
       "      <td>0.264768</td>\n",
       "      <td>0.620621</td>\n",
       "    </tr>\n",
       "    <tr>\n",
       "      <th>People_Tested</th>\n",
       "      <td>0.084769</td>\n",
       "      <td>-0.077781</td>\n",
       "      <td>0.828022</td>\n",
       "      <td>0.741730</td>\n",
       "      <td>0.950785</td>\n",
       "      <td>0.829687</td>\n",
       "      <td>-0.194011</td>\n",
       "      <td>0.441669</td>\n",
       "      <td>1.000000</td>\n",
       "      <td>0.231301</td>\n",
       "      <td>0.236043</td>\n",
       "      <td>0.230753</td>\n",
       "    </tr>\n",
       "    <tr>\n",
       "      <th>Mortality_Rate</th>\n",
       "      <td>-0.189675</td>\n",
       "      <td>0.318569</td>\n",
       "      <td>0.383425</td>\n",
       "      <td>0.427721</td>\n",
       "      <td>0.362330</td>\n",
       "      <td>0.368403</td>\n",
       "      <td>-0.262258</td>\n",
       "      <td>0.373338</td>\n",
       "      <td>0.231301</td>\n",
       "      <td>1.000000</td>\n",
       "      <td>-0.259667</td>\n",
       "      <td>0.170587</td>\n",
       "    </tr>\n",
       "    <tr>\n",
       "      <th>UID</th>\n",
       "      <td>0.774106</td>\n",
       "      <td>-0.526908</td>\n",
       "      <td>0.153972</td>\n",
       "      <td>0.120043</td>\n",
       "      <td>0.166898</td>\n",
       "      <td>0.146354</td>\n",
       "      <td>0.058022</td>\n",
       "      <td>0.264768</td>\n",
       "      <td>0.236043</td>\n",
       "      <td>-0.259667</td>\n",
       "      <td>1.000000</td>\n",
       "      <td>0.258609</td>\n",
       "    </tr>\n",
       "    <tr>\n",
       "      <th>Testing_Rate</th>\n",
       "      <td>0.309579</td>\n",
       "      <td>0.190191</td>\n",
       "      <td>0.334032</td>\n",
       "      <td>0.345441</td>\n",
       "      <td>0.252155</td>\n",
       "      <td>0.322773</td>\n",
       "      <td>-0.092705</td>\n",
       "      <td>0.620621</td>\n",
       "      <td>0.230753</td>\n",
       "      <td>0.170587</td>\n",
       "      <td>0.258609</td>\n",
       "      <td>1.000000</td>\n",
       "    </tr>\n",
       "  </tbody>\n",
       "</table>\n",
       "</div>"
      ],
      "text/plain": [
       "                     Lat     Long_  Confirmed    Deaths  Recovered    Active  \\\n",
       "Lat             1.000000 -0.278274   0.120959  0.120024   0.043318  0.120148   \n",
       "Long_          -0.278274  1.000000   0.009998  0.028772  -0.043379  0.011654   \n",
       "Confirmed       0.120959  0.009998   1.000000  0.982191   0.876856  0.985218   \n",
       "Deaths          0.120024  0.028772   0.982191  1.000000   0.856295  0.954378   \n",
       "Recovered       0.043318 -0.043379   0.876856  0.856295   1.000000  0.809437   \n",
       "Active          0.120148  0.011654   0.985218  0.954378   0.809437  1.000000   \n",
       "FIPS           -0.374943  0.367911  -0.096696 -0.075053  -0.013571 -0.092276   \n",
       "Incident_Rate   0.245693  0.041318   0.711776  0.712117   0.592014  0.703931   \n",
       "People_Tested   0.084769 -0.077781   0.828022  0.741730   0.950785  0.829687   \n",
       "Mortality_Rate -0.189675  0.318569   0.383425  0.427721   0.362330  0.368403   \n",
       "UID             0.774106 -0.526908   0.153972  0.120043   0.166898  0.146354   \n",
       "Testing_Rate    0.309579  0.190191   0.334032  0.345441   0.252155  0.322773   \n",
       "\n",
       "                    FIPS  Incident_Rate  People_Tested  Mortality_Rate  \\\n",
       "Lat            -0.374943       0.245693       0.084769       -0.189675   \n",
       "Long_           0.367911       0.041318      -0.077781        0.318569   \n",
       "Confirmed      -0.096696       0.711776       0.828022        0.383425   \n",
       "Deaths         -0.075053       0.712117       0.741730        0.427721   \n",
       "Recovered      -0.013571       0.592014       0.950785        0.362330   \n",
       "Active         -0.092276       0.703931       0.829687        0.368403   \n",
       "FIPS            1.000000      -0.220264      -0.194011       -0.262258   \n",
       "Incident_Rate  -0.220264       1.000000       0.441669        0.373338   \n",
       "People_Tested  -0.194011       0.441669       1.000000        0.231301   \n",
       "Mortality_Rate -0.262258       0.373338       0.231301        1.000000   \n",
       "UID             0.058022       0.264768       0.236043       -0.259667   \n",
       "Testing_Rate   -0.092705       0.620621       0.230753        0.170587   \n",
       "\n",
       "                     UID  Testing_Rate  \n",
       "Lat             0.774106      0.309579  \n",
       "Long_          -0.526908      0.190191  \n",
       "Confirmed       0.153972      0.334032  \n",
       "Deaths          0.120043      0.345441  \n",
       "Recovered       0.166898      0.252155  \n",
       "Active          0.146354      0.322773  \n",
       "FIPS            0.058022     -0.092705  \n",
       "Incident_Rate   0.264768      0.620621  \n",
       "People_Tested   0.236043      0.230753  \n",
       "Mortality_Rate -0.259667      0.170587  \n",
       "UID             1.000000      0.258609  \n",
       "Testing_Rate    0.258609      1.000000  "
      ]
     },
     "execution_count": 16,
     "metadata": {},
     "output_type": "execute_result"
    }
   ],
   "source": [
    "df_corr=df.corr()\n",
    "df_corr"
   ]
  },
  {
   "cell_type": "code",
   "execution_count": 17,
   "id": "positive-europe",
   "metadata": {},
   "outputs": [
    {
     "data": {
      "text/plain": [
       "<AxesSubplot:>"
      ]
     },
     "execution_count": 17,
     "metadata": {},
     "output_type": "execute_result"
    },
    {
     "data": {
      "image/png": "[encoded data removed]",
      "text/plain": [
       "<Figure size 720x576 with 2 Axes>"
      ]
     },
     "metadata": {
      "needs_background": "light"
     },
     "output_type": "display_data"
    }
   ],
   "source": [
    "plt.figure(figsize=(10,8))\n",
    "sns.heatmap (df.corr(), annot= True, linewidth=0.5 , fmt = '.2f')"
   ]
  },
  {
   "cell_type": "markdown",
   "id": "pointed-funds",
   "metadata": {},
   "source": [
    "# Data Visualisation"
   ]
  },
  {
   "cell_type": "code",
   "execution_count": 18,
   "id": "electric-bridges",
   "metadata": {},
   "outputs": [
    {
     "data": {
      "text/plain": [
       "<AxesSubplot:xlabel='Lat', ylabel='Density'>"
      ]
     },
     "execution_count": 18,
     "metadata": {},
     "output_type": "execute_result"
    },
    {
     "data": {
      "image/png": "[encoded data removed]",
      "text/plain": [
       "<Figure size 432x288 with 1 Axes>"
      ]
     },
     "metadata": {
      "needs_background": "light"
     },
     "output_type": "display_data"
    }
   ],
   "source": [
    "sns.distplot (df[\"Lat\"])"
   ]
  },
  {
   "cell_type": "code",
   "execution_count": 19,
   "id": "characteristic-component",
   "metadata": {},
   "outputs": [
    {
     "data": {
      "text/plain": [
       "<AxesSubplot:xlabel='Long_', ylabel='Density'>"
      ]
     },
     "execution_count": 19,
     "metadata": {},
     "output_type": "execute_result"
    },
    {
     "data": {
      "image/png": "[encoded data removed]",
      "text/plain": [
       "<Figure size 432x288 with 1 Axes>"
      ]
     },
     "metadata": {
      "needs_background": "light"
     },
     "output_type": "display_data"
    }
   ],
   "source": [
    "sns.distplot (df[\"Long_\"])"
   ]
  },
  {
   "cell_type": "code",
   "execution_count": 20,
   "id": "palestinian-female",
   "metadata": {},
   "outputs": [
    {
     "data": {
      "text/plain": [
       "<AxesSubplot:xlabel='Confirmed', ylabel='Density'>"
      ]
     },
     "execution_count": 20,
     "metadata": {},
     "output_type": "execute_result"
    },
    {
     "data": {
      "image/png": "[encoded data removed]",
      "text/plain": [
       "<Figure size 432x288 with 1 Axes>"
      ]
     },
     "metadata": {
      "needs_background": "light"
     },
     "output_type": "display_data"
    }
   ],
   "source": [
    "sns.distplot (df[\"Confirmed\"])"
   ]
  },
  {
   "cell_type": "code",
   "execution_count": 21,
   "id": "mobile-thomas",
   "metadata": {},
   "outputs": [
    {
     "data": {
      "text/plain": [
       "<AxesSubplot:xlabel='Deaths', ylabel='Density'>"
      ]
     },
     "execution_count": 21,
     "metadata": {},
     "output_type": "execute_result"
    },
    {
     "data": {
      "image/png": "[encoded data removed]",
      "text/plain": [
       "<Figure size 432x288 with 1 Axes>"
      ]
     },
     "metadata": {
      "needs_background": "light"
     },
     "output_type": "display_data"
    }
   ],
   "source": [
    "sns.distplot (df[\"Deaths\"])"
   ]
  },
  {
   "cell_type": "code",
   "execution_count": 22,
   "id": "ancient-temple",
   "metadata": {},
   "outputs": [
    {
     "data": {
      "text/plain": [
       "<AxesSubplot:xlabel='Recovered', ylabel='Density'>"
      ]
     },
     "execution_count": 22,
     "metadata": {},
     "output_type": "execute_result"
    },
    {
     "data": {
      "image/png": "[encoded data removed]",
      "text/plain": [
       "<Figure size 432x288 with 1 Axes>"
      ]
     },
     "metadata": {
      "needs_background": "light"
     },
     "output_type": "display_data"
    }
   ],
   "source": [
    "sns.distplot (df[\"Recovered\"])"
   ]
  },
  {
   "cell_type": "code",
   "execution_count": 23,
   "id": "stone-casting",
   "metadata": {},
   "outputs": [
    {
     "data": {
      "text/plain": [
       "<AxesSubplot:xlabel='Active', ylabel='Density'>"
      ]
     },
     "execution_count": 23,
     "metadata": {},
     "output_type": "execute_result"
    },
    {
     "data": {
      "image/png": "[encoded data removed]",
      "text/plain": [
       "<Figure size 432x288 with 1 Axes>"
      ]
     },
     "metadata": {
      "needs_background": "light"
     },
     "output_type": "display_data"
    }
   ],
   "source": [
    "sns.distplot (df[\"Active\"])"
   ]
  },
  {
   "cell_type": "code",
   "execution_count": 24,
   "id": "hourly-liechtenstein",
   "metadata": {},
   "outputs": [
    {
     "data": {
      "text/plain": [
       "<AxesSubplot:xlabel='FIPS', ylabel='Density'>"
      ]
     },
     "execution_count": 24,
     "metadata": {},
     "output_type": "execute_result"
    },
    {
     "data": {
      "image/png": "[encoded data removed]",
      "text/plain": [
       "<Figure size 432x288 with 1 Axes>"
      ]
     },
     "metadata": {
      "needs_background": "light"
     },
     "output_type": "display_data"
    }
   ],
   "source": [
    "sns.distplot (df[\"FIPS\"])"
   ]
  },
  {
   "cell_type": "code",
   "execution_count": 25,
   "id": "finite-saturday",
   "metadata": {},
   "outputs": [
    {
     "data": {
      "text/plain": [
       "<AxesSubplot:xlabel='Incident_Rate', ylabel='Density'>"
      ]
     },
     "execution_count": 25,
     "metadata": {},
     "output_type": "execute_result"
    },
    {
     "data": {
      "image/png": "[encoded data removed]",
      "text/plain": [
       "<Figure size 432x288 with 1 Axes>"
      ]
     },
     "metadata": {
      "needs_background": "light"
     },
     "output_type": "display_data"
    }
   ],
   "source": [
    "sns.distplot (df[\"Incident_Rate\"])"
   ]
  },
  {
   "cell_type": "code",
   "execution_count": 26,
   "id": "liable-dance",
   "metadata": {},
   "outputs": [
    {
     "data": {
      "text/plain": [
       "<AxesSubplot:xlabel='People_Tested', ylabel='Density'>"
      ]
     },
     "execution_count": 26,
     "metadata": {},
     "output_type": "execute_result"
    },
    {
     "data": {
      "image/png": "[encoded data removed]",
      "text/plain": [
       "<Figure size 432x288 with 1 Axes>"
      ]
     },
     "metadata": {
      "needs_background": "light"
     },
     "output_type": "display_data"
    }
   ],
   "source": [
    "sns.distplot (df[\"People_Tested\"])"
   ]
  },
  {
   "cell_type": "code",
   "execution_count": 27,
   "id": "treated-cricket",
   "metadata": {},
   "outputs": [
    {
     "data": {
      "text/plain": [
       "<AxesSubplot:xlabel='Mortality_Rate', ylabel='Density'>"
      ]
     },
     "execution_count": 27,
     "metadata": {},
     "output_type": "execute_result"
    },
    {
     "data": {
      "image/png": "[encoded data removed]",
      "text/plain": [
       "<Figure size 432x288 with 1 Axes>"
      ]
     },
     "metadata": {
      "needs_background": "light"
     },
     "output_type": "display_data"
    }
   ],
   "source": [
    "sns.distplot (df[\"Mortality_Rate\"])"
   ]
  },
  {
   "cell_type": "code",
   "execution_count": 28,
   "id": "national-absolute",
   "metadata": {},
   "outputs": [
    {
     "data": {
      "text/plain": [
       "<AxesSubplot:xlabel='UID', ylabel='Density'>"
      ]
     },
     "execution_count": 28,
     "metadata": {},
     "output_type": "execute_result"
    },
    {
     "data": {
      "image/png": "[encoded data removed]",
      "text/plain": [
       "<Figure size 432x288 with 1 Axes>"
      ]
     },
     "metadata": {
      "needs_background": "light"
     },
     "output_type": "display_data"
    }
   ],
   "source": [
    "sns.distplot (df[\"UID\"])"
   ]
  },
  {
   "cell_type": "code",
   "execution_count": 29,
   "id": "electronic-integer",
   "metadata": {},
   "outputs": [
    {
     "data": {
      "text/plain": [
       "<AxesSubplot:xlabel='Testing_Rate', ylabel='Density'>"
      ]
     },
     "execution_count": 29,
     "metadata": {},
     "output_type": "execute_result"
    },
    {
     "data": {
      "image/png": "[encoded data removed]",
      "text/plain": [
       "<Figure size 432x288 with 1 Axes>"
      ]
     },
     "metadata": {
      "needs_background": "light"
     },
     "output_type": "display_data"
    }
   ],
   "source": [
    "sns.distplot (df[\"Testing_Rate\"])"
   ]
  },
  {
   "cell_type": "markdown",
   "id": "incorporated-association",
   "metadata": {},
   "source": [
    "# Skewness"
   ]
  },
  {
   "cell_type": "code",
   "execution_count": 30,
   "id": "dirty-yeast",
   "metadata": {},
   "outputs": [
    {
     "data": {
      "text/plain": [
       "Lat              -2.213092\n",
       "Long_             3.509241\n",
       "Confirmed         4.708614\n",
       "Deaths            5.489201\n",
       "Recovered         3.136333\n",
       "Active            4.180953\n",
       "FIPS              5.269070\n",
       "Incident_Rate     1.955650\n",
       "People_Tested     2.783163\n",
       "Mortality_Rate    0.492052\n",
       "UID              -3.027480\n",
       "Testing_Rate      1.291806\n",
       "dtype: float64"
      ]
     },
     "execution_count": 30,
     "metadata": {},
     "output_type": "execute_result"
    }
   ],
   "source": [
    "df.skew()"
   ]
  },
  {
   "cell_type": "code",
   "execution_count": null,
   "id": "comfortable-authorization",
   "metadata": {},
   "outputs": [],
   "source": [
    "sns.pairplot(df)\n",
    "plt.show()"
   ]
  },
  {
   "cell_type": "raw",
   "id": "intermediate-consolidation",
   "metadata": {},
   "source": [
    " We covered different stages of Data analysis – Set up, Review, Pre-processing, EDA"
   ]
  }
 ],
 "metadata": {
  "kernelspec": {
   "display_name": "Python 3",
   "language": "python",
   "name": "python3"
  },
  "language_info": {
   "codemirror_mode": {
    "name": "ipython",
    "version": 3
   },
   "file_extension": ".py",
   "mimetype": "text/x-python",
   "name": "python",
   "nbconvert_exporter": "python",
   "pygments_lexer": "ipython3",
   "version": "3.7.6"
  }
 },
 "nbformat": 4,
 "nbformat_minor": 5
}
