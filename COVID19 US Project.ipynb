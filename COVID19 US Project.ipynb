{
 "cells": [
  {
   "cell_type": "code",
   "execution_count": null,
   "id": "impressed-found",
   "metadata": {},
   "outputs": [],
   "source": [
    "#importing the necessary libraries\n",
    "import pandas as pd\n",
    "import numpy as np\n",
    "import seaborn as sns\n",
    "import matplotlib.pyplot as plt\n",
    "\n",
    "#importing the warnings\n",
    "import warnings\n",
    "warnings.simplefilter('ignore')"
   ]
  },
  {
   "cell_type": "code",
   "execution_count": null,
   "id": "artificial-electric",
   "metadata": {},
   "outputs": [],
   "source": [
    "#loading the dataset\n",
    "df=pd.read_csv('covid_19_daily_reports_us.csv')\n",
    "df.head()"
   ]
  },
  {
   "cell_type": "code",
   "execution_count": null,
   "id": "divine-palmer",
   "metadata": {},
   "outputs": [],
   "source": [
    "df.shape"
   ]
  },
  {
   "cell_type": "code",
   "execution_count": null,
   "id": "herbal-fabric",
   "metadata": {},
   "outputs": [],
   "source": [
    "df.columns"
   ]
  },
  {
   "cell_type": "code",
   "execution_count": null,
   "id": "controlled-emperor",
   "metadata": {},
   "outputs": [],
   "source": [
    "df.dtypes"
   ]
  },
  {
   "cell_type": "code",
   "execution_count": null,
   "id": "demanding-spirit",
   "metadata": {},
   "outputs": [],
   "source": [
    "df.info()"
   ]
  },
  {
   "cell_type": "raw",
   "id": "copyrighted-economics",
   "metadata": {},
   "source": [
    "Observation:\n",
    "1. there are 58 rows & 18 columns\n",
    "2. there are no missing value"
   ]
  },
  {
   "cell_type": "markdown",
   "id": "scientific-scoop",
   "metadata": {},
   "source": [
    "# Summary Statistics"
   ]
  },
  {
   "cell_type": "code",
   "execution_count": null,
   "id": "golden-norman",
   "metadata": {},
   "outputs": [],
   "source": [
    "df.describe ()"
   ]
  },
  {
   "cell_type": "code",
   "execution_count": null,
   "id": "public-bumper",
   "metadata": {},
   "outputs": [],
   "source": [
    "df['Deaths'].unique()"
   ]
  },
  {
   "cell_type": "code",
   "execution_count": null,
   "id": "technological-spelling",
   "metadata": {},
   "outputs": [],
   "source": [
    "df ['Recovered'].unique()"
   ]
  },
  {
   "cell_type": "markdown",
   "id": "informal-infrared",
   "metadata": {},
   "source": [
    "# Missing Values"
   ]
  },
  {
   "cell_type": "code",
   "execution_count": null,
   "id": "unknown-elder",
   "metadata": {},
   "outputs": [],
   "source": [
    "#checking for null values\n",
    "df.isnull ().sum()"
   ]
  },
  {
   "cell_type": "code",
   "execution_count": null,
   "id": "resident-agreement",
   "metadata": {},
   "outputs": [],
   "source": [
    "plt.figure (figsize = (10,8))\n",
    "sns.heatmap (df.isnull(), yticklabels= False , cbar= False , cmap='tab10', annot= True)"
   ]
  },
  {
   "cell_type": "raw",
   "id": "growing-debut",
   "metadata": {},
   "source": [
    "Observation:\n",
    "Maximum null values are present in 'People_Hospitalized' & 'Hospitalization_Rate'. So we can drop this two columns."
   ]
  },
  {
   "cell_type": "code",
   "execution_count": null,
   "id": "accompanied-front",
   "metadata": {},
   "outputs": [],
   "source": [
    "#Removing columns with maximum null values \n",
    "df=df.drop(['Hospitalization_Rate'],axis=1)"
   ]
  },
  {
   "cell_type": "code",
   "execution_count": null,
   "id": "exposed-turning",
   "metadata": {},
   "outputs": [],
   "source": [
    "df=df.drop(['People_Hospitalized'],axis=1)"
   ]
  },
  {
   "cell_type": "code",
   "execution_count": null,
   "id": "celtic-technician",
   "metadata": {},
   "outputs": [],
   "source": [
    "df.head()"
   ]
  },
  {
   "cell_type": "code",
   "execution_count": null,
   "id": "automatic-briefing",
   "metadata": {},
   "outputs": [],
   "source": [
    "df.shape"
   ]
  },
  {
   "cell_type": "markdown",
   "id": "trained-literature",
   "metadata": {},
   "source": [
    "# Correlation"
   ]
  },
  {
   "cell_type": "code",
   "execution_count": null,
   "id": "under-facility",
   "metadata": {},
   "outputs": [],
   "source": [
    "df_corr=df.corr()\n",
    "df_corr"
   ]
  },
  {
   "cell_type": "code",
   "execution_count": null,
   "id": "positive-europe",
   "metadata": {},
   "outputs": [],
   "source": [
    "plt.figure(figsize=(10,8))\n",
    "sns.heatmap (df.corr(), annot= True, linewidth=0.5 , fmt = '.2f')"
   ]
  },
  {
   "cell_type": "markdown",
   "id": "pointed-funds",
   "metadata": {},
   "source": [
    "# Data Visualisation"
   ]
  },
  {
   "cell_type": "code",
   "execution_count": null,
   "id": "electric-bridges",
   "metadata": {},
   "outputs": [],
   "source": [
    "sns.distplot (df[\"Lat\"])"
   ]
  },
  {
   "cell_type": "code",
   "execution_count": null,
   "id": "characteristic-component",
   "metadata": {},
   "outputs": [],
   "source": [
    "sns.distplot (df[\"Long_\"])"
   ]
  },
  {
   "cell_type": "code",
   "execution_count": null,
   "id": "palestinian-female",
   "metadata": {},
   "outputs": [],
   "source": [
    "sns.distplot (df[\"Confirmed\"])"
   ]
  },
  {
   "cell_type": "code",
   "execution_count": null,
   "id": "mobile-thomas",
   "metadata": {},
   "outputs": [],
   "source": [
    "sns.distplot (df[\"Deaths\"])"
   ]
  },
  {
   "cell_type": "code",
   "execution_count": null,
   "id": "ancient-temple",
   "metadata": {},
   "outputs": [],
   "source": [
    "sns.distplot (df[\"Recovered\"])"
   ]
  },
  {
   "cell_type": "code",
   "execution_count": null,
   "id": "stone-casting",
   "metadata": {},
   "outputs": [],
   "source": [
    "sns.distplot (df[\"Active\"])"
   ]
  },
  {
   "cell_type": "code",
   "execution_count": null,
   "id": "hourly-liechtenstein",
   "metadata": {},
   "outputs": [],
   "source": [
    "sns.distplot (df[\"FIPS\"])"
   ]
  },
  {
   "cell_type": "code",
   "execution_count": null,
   "id": "finite-saturday",
   "metadata": {},
   "outputs": [],
   "source": [
    "sns.distplot (df[\"Incident_Rate\"])"
   ]
  },
  {
   "cell_type": "code",
   "execution_count": null,
   "id": "liable-dance",
   "metadata": {},
   "outputs": [],
   "source": [
    "sns.distplot (df[\"People_Tested\"])"
   ]
  },
  {
   "cell_type": "code",
   "execution_count": null,
   "id": "treated-cricket",
   "metadata": {},
   "outputs": [],
   "source": [
    "sns.distplot (df[\"Mortality_Rate\"])"
   ]
  },
  {
   "cell_type": "code",
   "execution_count": null,
   "id": "national-absolute",
   "metadata": {},
   "outputs": [],
   "source": [
    "sns.distplot (df[\"UID\"])"
   ]
  },
  {
   "cell_type": "code",
   "execution_count": null,
   "id": "electronic-integer",
   "metadata": {},
   "outputs": [],
   "source": [
    "sns.distplot (df[\"Testing_Rate\"])"
   ]
  },
  {
   "cell_type": "markdown",
   "id": "incorporated-association",
   "metadata": {},
   "source": [
    "# Skewness"
   ]
  },
  {
   "cell_type": "code",
   "execution_count": null,
   "id": "dirty-yeast",
   "metadata": {},
   "outputs": [],
   "source": [
    "df.skew()"
   ]
  },
  {
   "cell_type": "code",
   "execution_count": null,
   "id": "comfortable-authorization",
   "metadata": {},
   "outputs": [],
   "source": [
    "sns.pairplot(df)\n",
    "plt.show()"
   ]
  },
  {
   "cell_type": "raw",
   "id": "intermediate-consolidation",
   "metadata": {},
   "source": [
    " We covered different stages of Data analysis – Set up, Review, Pre-processing, EDA"
   ]
  }
 ],
 "metadata": {
  "kernelspec": {
   "display_name": "Python 3",
   "language": "python",
   "name": "python3"
  },
  "language_info": {
   "codemirror_mode": {
    "name": "ipython",
    "version": 3
   },
   "file_extension": ".py",
   "mimetype": "text/x-python",
   "name": "python",
   "nbconvert_exporter": "python",
   "pygments_lexer": "ipython3",
   "version": "3.7.6"
  }
 },
 "nbformat": 4,
 "nbformat_minor": 5
}
